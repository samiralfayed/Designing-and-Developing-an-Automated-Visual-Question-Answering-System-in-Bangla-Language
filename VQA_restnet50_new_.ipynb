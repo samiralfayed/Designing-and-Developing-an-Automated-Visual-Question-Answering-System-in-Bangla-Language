{
  "cells": [
    {
      "cell_type": "code",
      "execution_count": null,
      "metadata": {
        "id": "8Hpm7Z1LYjG9"
      },
      "outputs": [],
      "source": [
        "import json\n",
        "import numpy as np\n",
        "import tensorflow as tf\n",
        "from tensorflow.keras.applications import ResNet50\n",
        "from tensorflow.keras.preprocessing.image import load_img, img_to_array\n",
        "from tensorflow.keras.preprocessing.text import Tokenizer\n",
        "from tensorflow.keras.preprocessing.sequence import pad_sequences\n",
        "from tensorflow.keras.models import Model\n",
        "from tensorflow.keras.layers import Input, LSTM, Embedding, Dense, Concatenate"
      ]
    },
    {
      "cell_type": "code",
      "execution_count": null,
      "metadata": {
        "colab": {
          "base_uri": "https://localhost:8080/"
        },
        "id": "vzs_0uuzBzqd",
        "outputId": "aeadad2e-23bb-4018-a643-a6df11c5c4df"
      },
      "outputs": [
        {
          "name": "stdout",
          "output_type": "stream",
          "text": [
            "Drive already mounted at /content/drive; to attempt to forcibly remount, call drive.mount(\"/content/drive\", force_remount=True).\n"
          ]
        }
      ],
      "source": [
        "from google.colab import drive\n",
        "drive.mount('/content/drive')"
      ]
    },
    {
      "cell_type": "code",
      "execution_count": null,
      "metadata": {
        "id": "JBN8ynLUYre4"
      },
      "outputs": [],
      "source": [
        "# Load the JSON files\n",
        "with open('/content/drive/MyDrive/cap/bangla dataset/train_questions_save (1).json', 'r') as f:\n",
        "    train_data = json.load(f)\n",
        "\n",
        "with open('/content/drive/MyDrive/cap/bangla dataset/train_questions_save (1).json', 'r') as f:\n",
        "    test_data = json.load(f)\n"
      ]
    },
    {
      "cell_type": "code",
      "execution_count": null,
      "metadata": {
        "id": "Yw5kegh7Y1Ek"
      },
      "outputs": [],
      "source": [
        "# Define image and question data\n",
        "train_image_ids = []\n",
        "train_questions = []\n",
        "train_answers = []\n",
        "test_image_ids = []\n",
        "test_questions = []\n",
        "test_answers = []"
      ]
    },
    {
      "cell_type": "code",
      "execution_count": null,
      "metadata": {
        "id": "5ACGyLOBZBMS"
      },
      "outputs": [],
      "source": [
        "for key in train_data:\n",
        "    train_image_ids.append(train_data[key]['image_id'])\n",
        "    train_questions.append(train_data[key]['question'])\n",
        "    train_answers.append(train_data[key]['answer'])\n",
        "\n",
        "for key in test_data:\n",
        "    test_image_ids.append(test_data[key]['image_id'])\n",
        "    test_questions.append(test_data[key]['question'])\n",
        "    test_answers.append(test_data[key]['answer'])"
      ]
    },
    {
      "cell_type": "code",
      "execution_count": null,
      "metadata": {
        "id": "ladYRUvZZLAG"
      },
      "outputs": [],
      "source": [
        "# Load and preprocess images\n",
        "image_dir = '/content/drive/MyDrive/cap/bangla dataset/Images/'"
      ]
    },
    {
      "cell_type": "code",
      "execution_count": null,
      "metadata": {
        "id": "0AIunRKLZN0a"
      },
      "outputs": [],
      "source": [
        "from PIL import Image\n",
        "\n",
        "def preprocess_image(image_path):\n",
        "    img = Image.open(image_path)\n",
        "    img = img.convert('RGB')\n",
        "    img = img.resize((224, 224))\n",
        "    img = img_to_array(img)\n",
        "    img = img / 255.0\n",
        "    return img"
      ]
    },
    {
      "cell_type": "code",
      "execution_count": null,
      "metadata": {
        "id": "qoN8NDE8ZQp-"
      },
      "outputs": [],
      "source": [
        "train_images = [preprocess_image(image_dir + image_id + '.png') for image_id in train_image_ids]\n",
        "train_images = np.array(train_images)\n",
        "\n",
        "test_images = [preprocess_image(image_dir + image_id + '.png') for image_id in test_image_ids]\n",
        "test_images = np.array(test_images)"
      ]
    },
    {
      "cell_type": "code",
      "execution_count": null,
      "metadata": {
        "id": "ST_NaZmhZa-V"
      },
      "outputs": [],
      "source": [
        "# Process questions\n",
        "tokenizer = Tokenizer()\n",
        "tokenizer.fit_on_texts(train_questions)\n",
        "vocab_size = len(tokenizer.word_index) + 1"
      ]
    },
    {
      "cell_type": "code",
      "execution_count": null,
      "metadata": {
        "id": "pAmhBb7hZdjm"
      },
      "outputs": [],
      "source": [
        "train_question_sequences = tokenizer.texts_to_sequences(train_questions)\n",
        "train_question_sequences = pad_sequences(train_question_sequences, padding='post')"
      ]
    },
    {
      "cell_type": "code",
      "execution_count": null,
      "metadata": {
        "id": "jhk__M_TZg5i"
      },
      "outputs": [],
      "source": [
        "test_question_sequences = tokenizer.texts_to_sequences(test_questions)\n",
        "test_question_sequences = pad_sequences(test_question_sequences, padding='post')"
      ]
    },
    {
      "cell_type": "code",
      "execution_count": null,
      "metadata": {
        "colab": {
          "base_uri": "https://localhost:8080/"
        },
        "id": "vZnMdnlzZjFb",
        "outputId": "2e97c094-c1fb-4328-b90f-f1bd5f5472b7"
      },
      "outputs": [
        {
          "name": "stdout",
          "output_type": "stream",
          "text": [
            "Downloading data from https://storage.googleapis.com/tensorflow/keras-applications/resnet/resnet50_weights_tf_dim_ordering_tf_kernels_notop.h5\n",
            "94765736/94765736 [==============================] - 0s 0us/step\n"
          ]
        }
      ],
      "source": [
        " #Define the CNN model to extract image features\n",
        "image_input = Input(shape=(224, 224, 3))\n",
        "cnn_model = ResNet50(weights='imagenet', include_top=False, input_tensor=image_input, pooling='avg')"
      ]
    },
    {
      "cell_type": "code",
      "execution_count": null,
      "metadata": {
        "id": "mltqo3UBZmFK"
      },
      "outputs": [],
      "source": [
        "# Freeze the layers of the CNN model\n",
        "for layer in cnn_model.layers:\n",
        "    layer.trainable = False"
      ]
    },
    {
      "cell_type": "code",
      "execution_count": null,
      "metadata": {
        "colab": {
          "base_uri": "https://localhost:8080/"
        },
        "id": "W2UPUHUtZomY",
        "outputId": "f3194821-0484-4d3f-9853-f66b6addc5cd"
      },
      "outputs": [
        {
          "name": "stdout",
          "output_type": "stream",
          "text": [
            "31/31 [==============================] - 179s 6s/step\n",
            "31/31 [==============================] - 187s 6s/step\n"
          ]
        }
      ],
      "source": [
        "# Extract image features\n",
        "train_image_features = cnn_model.predict(train_images)\n",
        "test_image_features = cnn_model.predict(test_images)"
      ]
    },
    {
      "cell_type": "code",
      "execution_count": null,
      "metadata": {
        "id": "TKdkd2wiZq6l"
      },
      "outputs": [],
      "source": [
        "# Define the LSTM model for processing questions\n",
        "question_input = Input(shape=(None,))\n",
        "embedding_layer = Embedding(vocab_size, 300, mask_zero=True)(question_input)\n",
        "lstm_layer = LSTM(256)(embedding_layer)"
      ]
    },
    {
      "cell_type": "code",
      "execution_count": null,
      "metadata": {
        "id": "5fQ7g737ZuL1"
      },
      "outputs": [],
      "source": [
        "# Combine image and question features\n",
        "combined_features = Concatenate()([cnn_model.output, lstm_layer])\n",
        "output = Dense(512, activation='relu')(combined_features)\n",
        "output = Dense(vocab_size, activation='softmax')(output)"
      ]
    },
    {
      "cell_type": "code",
      "execution_count": null,
      "metadata": {
        "id": "93qNeCmBZw1m"
      },
      "outputs": [],
      "source": [
        "# Create the final model\n",
        "model = Model(inputs=[cnn_model.input, question_input], outputs=output)"
      ]
    },
    {
      "cell_type": "code",
      "execution_count": null,
      "metadata": {
        "colab": {
          "base_uri": "https://localhost:8080/"
        },
        "id": "kpmh04iwZzRr",
        "outputId": "a9349181-043d-45f6-ed5d-87fcf711456d"
      },
      "outputs": [
        {
          "name": "stdout",
          "output_type": "stream",
          "text": [
            "{'বানর বার': 748, 'বসা': 724, 'না': 972, 'মল': 518, 'ঠিক': 863, 'সাদা': 943, 'হ্যাঁ': 975, 'কুকুর': 880, 'বাদামী': 782, 'দুই': 968, 'চার': 926, 'পাঁচ': 851, 'সবুজ': 924, 'বাজানো': 954, 'বিড়াল': 952, 'নীল': 906, 'টেবিল': 953, 'ছেলে': 865, 'রৌদ্রোজ্জ্বল': 773, 'তিন': 951, 'কালো': 764, 'গাছ': 895, 'এক': 965, 'বেঞ্চ': 710, 'ধূসর': 869, 'হলুদ': 964, 'পাখি': 932, 'মেয়ে': 930, 'মদ': 809, 'মানুষ': 937, 'লাল': 944, 'বই': 611, 'হাড়': 918, 'সকার': 864, 'পাই': 280, 'লগ': 971, 'বেসবল': 182, 'ফুটবল': 823, 'কমলা': 837, 'পালঙ্ক': 973, 'দাঁড়িয়ে': 276, '0': 962, 'মহিলা': 873, 'খাবার': 326, 'মেঝে': 907, 'কাঠবিড়াল': 511, 'পাটি': 867, 'ঘুমাচ্ছেন': 836, 'আপেল': 471, 'বাইক': 762, 'উদ্ভিদ': 739, 'কম্বল': 876, 'ঘাস': 779, 'চেয়ার': 798, 'বাম': 909, 'কিছুই না': 970}\n"
          ]
        }
      ],
      "source": [
        "import json\n",
        "\n",
        "# Open the JSON file\n",
        "with open('/content/drive/MyDrive/cap/bangla dataset/train_questions_save (1).json', 'r') as file:\n",
        "    data = json.load(file)\n",
        "\n",
        "# Extract the answers and create a dictionary\n",
        "label_mapping = {value['answer']: index for index, (_, value) in enumerate(sorted(data.items(), key=lambda x: int(x[0])))}\n",
        "\n",
        "# Print the resulting dictionary\n",
        "print(label_mapping)\n"
      ]
    },
    {
      "cell_type": "code",
      "execution_count": null,
      "metadata": {
        "id": "Ki1erFYiZ5Xz"
      },
      "outputs": [],
      "source": [
        "label_mapping = {'বানর বার': 0, 'বসা': 1, 'না': 2, 'মল': 3, 'ঠিক': 4, 'সাদা': 4, 'হ্যাঁ': 6, 'কুকুর': 7, 'বাদামী': 8, 'দুই': 9, 'চার': 10, 'পাঁচ': 11, 'সবুজ': 12, 'বাজানো': 13, 'বিড়াল': 14, 'নীল': 15, 'টেবিল': 16, 'ছেলে': 17, 'রৌদ্রোজ্জ্বল': 18, 'তিন': 19, 'কালো': 20, 'গাছ': 21, 'এক': 22, 'বেঞ্চ': 23, 'ধূসর': 24, 'হলুদ': 25, 'পাখি': 26, 'মেয়ে': 27, 'মদ': 28, 'মানুষ': 29, 'লাল': 30, 'বই': 31, 'হাড়': 32, 'সকার': 33, 'পাই': 34, 'লগ': 35, 'বেসবল': 36, 'ফুটবল': 37, 'কমলা': 38, 'পালঙ্ক': 39, 'দাঁড়িয়ে': 40, '0': 41, 'মহিলা': 42, 'খাবার': 43, 'মেঝে': 44, 'কাঠবিড়াল': 45, 'পাটি': 46, 'ঘুমাচ্ছেন': 47, 'আপেল': 48, 'বাইক': 49, 'উদ্ভিদ': 50, 'কম্বল': 51, 'ঘাস': 52, 'চেয়ার': 53, 'বাম': 54, 'কিছুই না': 55}"
      ]
    },
    {
      "cell_type": "code",
      "execution_count": null,
      "metadata": {
        "id": "WjOytXq5aPOe"
      },
      "outputs": [],
      "source": [
        "train_label_encoded = [label_mapping[label] for label in train_answers]\n",
        "train_label_encoded = np.array(train_label_encoded, dtype=np.int32)"
      ]
    },
    {
      "cell_type": "code",
      "execution_count": null,
      "metadata": {
        "id": "6EiFci50adSP"
      },
      "outputs": [],
      "source": [
        "model.compile(loss='sparse_categorical_crossentropy', optimizer='adam', metrics=['accuracy'])"
      ]
    },
    {
      "cell_type": "code",
      "execution_count": null,
      "metadata": {
        "colab": {
          "background_save": true,
          "base_uri": "https://localhost:8080/"
        },
        "id": "TUUHJrRDNTzA",
        "outputId": "ec2d6772-40bc-4e71-9b4f-0fdfc5d48521"
      },
      "outputs": [
        {
          "name": "stdout",
          "output_type": "stream",
          "text": [
            "Epoch 1/20\n",
            "61/61 [==============================] - 183s 3s/step - loss: 3.1044 - accuracy: 0.3084\n",
            "Epoch 2/20\n",
            "61/61 [==============================] - 175s 3s/step - loss: 2.0538 - accuracy: 0.3914\n",
            "Epoch 3/20\n",
            "61/61 [==============================] - 180s 3s/step - loss: 1.7580 - accuracy: 0.4150\n",
            "Epoch 4/20\n",
            "61/61 [==============================] - 175s 3s/step - loss: 1.5961 - accuracy: 0.4365\n",
            "Epoch 5/20\n",
            "61/61 [==============================] - 175s 3s/step - loss: 1.4290 - accuracy: 0.5184\n",
            "Epoch 6/20\n",
            "61/61 [==============================] - 175s 3s/step - loss: 1.2497 - accuracy: 0.5984\n",
            "Epoch 7/20\n",
            "61/61 [==============================] - 182s 3s/step - loss: 1.1219 - accuracy: 0.6465\n",
            "Epoch 8/20\n",
            "61/61 [==============================] - 176s 3s/step - loss: 1.0623 - accuracy: 0.6732\n",
            "Epoch 9/20\n",
            "61/61 [==============================] - 178s 3s/step - loss: 0.9477 - accuracy: 0.6977\n",
            "Epoch 10/20\n",
            "61/61 [==============================] - 179s 3s/step - loss: 0.8165 - accuracy: 0.7500\n",
            "Epoch 11/20\n",
            "61/61 [==============================] - 174s 3s/step - loss: 0.7280 - accuracy: 0.7766\n",
            "Epoch 12/20\n",
            "61/61 [==============================] - 172s 3s/step - loss: 0.6648 - accuracy: 0.7859\n",
            "Epoch 13/20\n",
            "61/61 [==============================] - 172s 3s/step - loss: 0.6380 - accuracy: 0.8023\n",
            "Epoch 14/20\n",
            "61/61 [==============================] - 174s 3s/step - loss: 0.5999 - accuracy: 0.8064\n",
            "Epoch 15/20\n",
            "61/61 [==============================] - 173s 3s/step - loss: 0.5813 - accuracy: 0.8084\n",
            "Epoch 16/20\n",
            "61/61 [==============================] - 174s 3s/step - loss: 0.5083 - accuracy: 0.8443\n",
            "Epoch 17/20\n",
            "61/61 [==============================] - 173s 3s/step - loss: 0.4290 - accuracy: 0.8545\n",
            "Epoch 18/20\n",
            "61/61 [==============================] - 173s 3s/step - loss: 0.3767 - accuracy: 0.8770\n",
            "Epoch 19/20\n",
            "61/61 [==============================] - 172s 3s/step - loss: 0.3178 - accuracy: 0.8924\n",
            "Epoch 20/20\n",
            "61/61 [==============================] - 175s 3s/step - loss: 0.3076 - accuracy: 0.9016\n"
          ]
        },
        {
          "data": {
            "image/png": "[encoded data removed]",
            "text/plain": [
              "<Figure size 640x480 with 1 Axes>"
            ]
          },
          "metadata": {},
          "output_type": "display_data"
        }
      ],
      "source": [
        "import matplotlib.pyplot as plt\n",
        "\n",
        "# Assuming you have the history variable after training:\n",
        "history = model.fit([train_images, train_question_sequences], np.array(train_label_encoded), epochs=20, batch_size=16)\n",
        "\n",
        "# Plotting the loss and accuracy on the same graph\n",
        "epochs = range(1, len(history.history['loss']) + 1)\n",
        "\n",
        "plt.plot(epochs, history.history['loss'], label='Training Loss')\n",
        "plt.plot(epochs, history.history['accuracy'], label='Training Accuracy')\n",
        "plt.xlabel('Epoch')\n",
        "plt.ylabel('Value')\n",
        "plt.title('Training Loss and Accuracy over Epochs')\n",
        "plt.legend()\n",
        "plt.show()\n"
      ]
    },
    {
      "cell_type": "code",
      "execution_count": null,
      "metadata": {
        "colab": {
          "background_save": true
        },
        "id": "Y3VZ5o0paltM"
      },
      "outputs": [],
      "source": [
        "test_answers = [item['answer'] for _, item in test_data.items()]\n",
        "\n",
        "test_label_encoded = [label_mapping[label] for label in test_answers]\n",
        "test_label_encoded = np.array(test_label_encoded, dtype=np.int32)\n"
      ]
    },
    {
      "cell_type": "code",
      "execution_count": null,
      "metadata": {
        "colab": {
          "background_save": true
        },
        "id": "ByR8eOGFbvH9",
        "outputId": "1ea4e0bc-044a-4482-a2c4-22cf453c0a1b"
      },
      "outputs": [
        {
          "name": "stdout",
          "output_type": "stream",
          "text": [
            "31/31 [==============================] - 172s 5s/step - loss: 0.2385 - accuracy: 0.9170\n",
            "Test Accuracy: 0.9170082211494446\n"
          ]
        }
      ],
      "source": [
        "# Evaluate the model on the test dataset\n",
        "test_loss, test_accuracy = model.evaluate([test_images, test_question_sequences], test_label_encoded)\n",
        "\n",
        "# Print the test accuracy\n",
        "print(\"Test Accuracy:\", test_accuracy)"
      ]
    },
    {
      "cell_type": "code",
      "execution_count": null,
      "metadata": {
        "colab": {
          "background_save": true
        },
        "id": "bgUhyI26oGWB",
        "outputId": "a0b73f41-61e3-4b6a-87ce-61061fbc48ae"
      },
      "outputs": [
        {
          "ename": "FileNotFoundError",
          "evalue": "ignored",
          "output_type": "error",
          "traceback": [
            "\u001b[0;31m---------------------------------------------------------------------------\u001b[0m",
            "\u001b[0;31mFileNotFoundError\u001b[0m                         Traceback (most recent call last)",
            "\u001b[0;32m<ipython-input-26-83885a9a0cc7>\u001b[0m in \u001b[0;36m<cell line: 9>\u001b[0;34m()\u001b[0m\n\u001b[1;32m      7\u001b[0m \u001b[0;34m\u001b[0m\u001b[0m\n\u001b[1;32m      8\u001b[0m \u001b[0;31m# Preprocess the input image\u001b[0m\u001b[0;34m\u001b[0m\u001b[0;34m\u001b[0m\u001b[0m\n\u001b[0;32m----> 9\u001b[0;31m \u001b[0minput_image\u001b[0m \u001b[0;34m=\u001b[0m \u001b[0mpreprocess_image\u001b[0m\u001b[0;34m(\u001b[0m\u001b[0minput_image_path\u001b[0m\u001b[0;34m)\u001b[0m\u001b[0;34m\u001b[0m\u001b[0;34m\u001b[0m\u001b[0m\n\u001b[0m\u001b[1;32m     10\u001b[0m \u001b[0minput_image\u001b[0m \u001b[0;34m=\u001b[0m \u001b[0mnp\u001b[0m\u001b[0;34m.\u001b[0m\u001b[0mexpand_dims\u001b[0m\u001b[0;34m(\u001b[0m\u001b[0minput_image\u001b[0m\u001b[0;34m,\u001b[0m \u001b[0maxis\u001b[0m\u001b[0;34m=\u001b[0m\u001b[0;36m0\u001b[0m\u001b[0;34m)\u001b[0m  \u001b[0;31m# Add batch dimension\u001b[0m\u001b[0;34m\u001b[0m\u001b[0;34m\u001b[0m\u001b[0m\n\u001b[1;32m     11\u001b[0m \u001b[0;34m\u001b[0m\u001b[0m\n",
            "\u001b[0;32m<ipython-input-8-c51d6bd595db>\u001b[0m in \u001b[0;36mpreprocess_image\u001b[0;34m(image_path)\u001b[0m\n\u001b[1;32m      2\u001b[0m \u001b[0;34m\u001b[0m\u001b[0m\n\u001b[1;32m      3\u001b[0m \u001b[0;32mdef\u001b[0m \u001b[0mpreprocess_image\u001b[0m\u001b[0;34m(\u001b[0m\u001b[0mimage_path\u001b[0m\u001b[0;34m)\u001b[0m\u001b[0;34m:\u001b[0m\u001b[0;34m\u001b[0m\u001b[0;34m\u001b[0m\u001b[0m\n\u001b[0;32m----> 4\u001b[0;31m     \u001b[0mimg\u001b[0m \u001b[0;34m=\u001b[0m \u001b[0mImage\u001b[0m\u001b[0;34m.\u001b[0m\u001b[0mopen\u001b[0m\u001b[0;34m(\u001b[0m\u001b[0mimage_path\u001b[0m\u001b[0;34m)\u001b[0m\u001b[0;34m\u001b[0m\u001b[0;34m\u001b[0m\u001b[0m\n\u001b[0m\u001b[1;32m      5\u001b[0m     \u001b[0mimg\u001b[0m \u001b[0;34m=\u001b[0m \u001b[0mimg\u001b[0m\u001b[0;34m.\u001b[0m\u001b[0mconvert\u001b[0m\u001b[0;34m(\u001b[0m\u001b[0;34m'RGB'\u001b[0m\u001b[0;34m)\u001b[0m\u001b[0;34m\u001b[0m\u001b[0;34m\u001b[0m\u001b[0m\n\u001b[1;32m      6\u001b[0m     \u001b[0mimg\u001b[0m \u001b[0;34m=\u001b[0m \u001b[0mimg\u001b[0m\u001b[0;34m.\u001b[0m\u001b[0mresize\u001b[0m\u001b[0;34m(\u001b[0m\u001b[0;34m(\u001b[0m\u001b[0;36m224\u001b[0m\u001b[0;34m,\u001b[0m \u001b[0;36m224\u001b[0m\u001b[0;34m)\u001b[0m\u001b[0;34m)\u001b[0m\u001b[0;34m\u001b[0m\u001b[0;34m\u001b[0m\u001b[0m\n",
            "\u001b[0;32m/usr/local/lib/python3.10/dist-packages/PIL/Image.py\u001b[0m in \u001b[0;36mopen\u001b[0;34m(fp, mode, formats)\u001b[0m\n\u001b[1;32m   3225\u001b[0m \u001b[0;34m\u001b[0m\u001b[0m\n\u001b[1;32m   3226\u001b[0m     \u001b[0;32mif\u001b[0m \u001b[0mfilename\u001b[0m\u001b[0;34m:\u001b[0m\u001b[0;34m\u001b[0m\u001b[0;34m\u001b[0m\u001b[0m\n\u001b[0;32m-> 3227\u001b[0;31m         \u001b[0mfp\u001b[0m \u001b[0;34m=\u001b[0m \u001b[0mbuiltins\u001b[0m\u001b[0;34m.\u001b[0m\u001b[0mopen\u001b[0m\u001b[0;34m(\u001b[0m\u001b[0mfilename\u001b[0m\u001b[0;34m,\u001b[0m \u001b[0;34m\"rb\"\u001b[0m\u001b[0;34m)\u001b[0m\u001b[0;34m\u001b[0m\u001b[0;34m\u001b[0m\u001b[0m\n\u001b[0m\u001b[1;32m   3228\u001b[0m         \u001b[0mexclusive_fp\u001b[0m \u001b[0;34m=\u001b[0m \u001b[0;32mTrue\u001b[0m\u001b[0;34m\u001b[0m\u001b[0;34m\u001b[0m\u001b[0m\n\u001b[1;32m   3229\u001b[0m \u001b[0;34m\u001b[0m\u001b[0m\n",
            "\u001b[0;31mFileNotFoundError\u001b[0m: [Errno 2] No such file or directory: '/content/drive/MyDrive/bangla dataset/Images/2.png'"
          ]
        }
      ],
      "source": [
        "# Provide an image and question\n",
        "input_image_path = '/content/drive/MyDrive/bangla dataset/Images/2.png'\n",
        "input_question = 'কেউ কি সোফায় বসে আছে?'\n",
        "\n",
        "# Set the maximum sequence length\n",
        "max_question_length = 100\n",
        "\n",
        "# Preprocess the input image\n",
        "input_image = preprocess_image(input_image_path)\n",
        "input_image = np.expand_dims(input_image, axis=0)  # Add batch dimension\n",
        "\n",
        "# Tokenize and preprocess the input question\n",
        "input_question_sequence = tokenizer.texts_to_sequences([input_question])\n",
        "input_question_sequence = pad_sequences(input_question_sequence, maxlen=max_question_length)\n",
        "\n",
        "# Make prediction on the input\n",
        "prediction = model.predict([input_image, input_question_sequence])\n",
        "predicted_label = np.argmax(prediction)\n",
        "\n",
        "# Decode the predicted label\n",
        "label_mapping_reverse = {v: k for k, v in label_mapping.items()}\n",
        "predicted_answer = label_mapping_reverse[predicted_label]\n",
        "\n",
        "# Print the predicted answer\n",
        "print(\"Predicted Answer:\", predicted_answer)\n"
      ]
    },
    {
      "cell_type": "code",
      "execution_count": null,
      "metadata": {
        "colab": {
          "background_save": true
        },
        "id": "xu6bbNGe7KWl"
      },
      "outputs": [],
      "source": [
        "import numpy as np\n",
        "from tensorflow.keras.preprocessing.sequence import pad_sequences\n",
        "\n",
        "# Assuming you have a function preprocess_image() and a tokenizer\n",
        "# Also, you need to define the label_mapping dictionary and the model\n",
        "\n",
        "# Function to check if a string is empty or consists of only spaces\n",
        "def is_empty_or_spaces(s):\n",
        "    return s.strip() == \"\"\n",
        "\n",
        "input_image_path = input(\"Enter image path: \").strip()\n",
        "input_question = input(\"Enter question: \").strip()\n",
        "\n",
        "# Check if either image path or question is empty\n",
        "if is_empty_or_spaces(input_image_path) and is_empty_or_spaces(input_question):\n",
        "    print(\"Please enter an image path or a question.\")\n",
        "else:\n",
        "    # Set the maximum sequence length\n",
        "    max_question_length = 100\n",
        "\n",
        "    # Preprocess the input image if not empty\n",
        "    input_image = None\n",
        "    if not is_empty_or_spaces(input_image_path):\n",
        "        input_image = preprocess_image(input_image_path)\n",
        "        input_image = np.expand_dims(input_image, axis=0)  # Add batch dimension\n",
        "\n",
        "    # Tokenize and preprocess the input question if not empty\n",
        "    input_question_sequence = None\n",
        "    if not is_empty_or_spaces(input_question):\n",
        "        input_question_sequence = tokenizer.texts_to_sequences([input_question])\n",
        "        if not any(input_question_sequence[0]):  # Check if any valid tokens are present\n",
        "            print(\"Invalid question. Please provide a valid question from the dataset.\")\n",
        "            input_question_sequence = None\n",
        "        else:\n",
        "            input_question_sequence = pad_sequences(input_question_sequence, maxlen=max_question_length)\n",
        "\n",
        "    if input_image is not None and input_question_sequence is not None:\n",
        "        # Make prediction on the input\n",
        "        prediction = model.predict([input_image, input_question_sequence])\n",
        "        predicted_label = np.argmax(prediction)\n",
        "\n",
        "        # Decode the predicted label\n",
        "        label_mapping_reverse = {v: k for k, v in label_mapping.items()}\n",
        "        predicted_answer = label_mapping_reverse[predicted_label]\n",
        "\n",
        "        # Print the predicted answer\n",
        "        print(\"Predicted Answer:\", predicted_answer)\n",
        "    else:\n",
        "        print(\"Please provide either an image or a question.\")\n"
      ]
    }
  ],
  "metadata": {
    "colab": {
      "provenance": []
    },
    "kernelspec": {
      "display_name": "Python 3",
      "name": "python3"
    },
    "language_info": {
      "name": "python"
    }
  },
  "nbformat": 4,
  "nbformat_minor": 0
}