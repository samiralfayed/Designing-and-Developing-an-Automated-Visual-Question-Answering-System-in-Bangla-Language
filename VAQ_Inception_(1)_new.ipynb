{
  "cells": [
    {
      "cell_type": "code",
      "execution_count": null,
      "metadata": {
        "id": "PhwWpkTZsLaE"
      },
      "outputs": [],
      "source": [
        "import json\n",
        "import numpy as np\n",
        "import tensorflow as tf\n",
        "from tensorflow.keras.applications import ResNet50\n",
        "from tensorflow.keras.preprocessing.image import load_img, img_to_array\n",
        "from tensorflow.keras.preprocessing.text import Tokenizer\n",
        "from tensorflow.keras.preprocessing.sequence import pad_sequences\n",
        "from tensorflow.keras.models import Model\n",
        "from tensorflow.keras.layers import Input, LSTM, Embedding, Dense, Concatenate\n",
        "from keras.applications.inception_v3 import InceptionV3\n",
        "from keras.layers import GlobalAveragePooling2D\n"
      ]
    },
    {
      "cell_type": "code",
      "execution_count": null,
      "metadata": {
        "colab": {
          "base_uri": "https://localhost:8080/"
        },
        "id": "BwiASof3a771",
        "outputId": "a35be9af-2892-4403-d257-a566f2d2e8ca"
      },
      "outputs": [
        {
          "name": "stdout",
          "output_type": "stream",
          "text": [
            "Drive already mounted at /content/drive; to attempt to forcibly remount, call drive.mount(\"/content/drive\", force_remount=True).\n"
          ]
        }
      ],
      "source": [
        "from google.colab import drive\n",
        "drive.mount('/content/drive')"
      ]
    },
    {
      "cell_type": "code",
      "execution_count": null,
      "metadata": {
        "id": "stMasBQ-sSr6"
      },
      "outputs": [],
      "source": [
        "# Load the JSON files\n",
        "with open('/content/drive/MyDrive/cap/bangla dataset/train_questions_save (1).json', 'r') as f:\n",
        "    train_data = json.load(f)\n",
        "\n",
        "with open('/content/drive/MyDrive/cap/bangla dataset/train_questions_save (1).json', 'r') as f:\n",
        "    test_data = json.load(f)\n"
      ]
    },
    {
      "cell_type": "code",
      "execution_count": null,
      "metadata": {
        "id": "SBd_tSCosYru"
      },
      "outputs": [],
      "source": [
        "# Define image and question data\n",
        "train_image_ids = []\n",
        "train_questions = []\n",
        "train_answers = []\n",
        "test_image_ids = []\n",
        "test_questions = []\n",
        "test_answers = []"
      ]
    },
    {
      "cell_type": "code",
      "execution_count": null,
      "metadata": {
        "id": "Z0ys6wUlshSi"
      },
      "outputs": [],
      "source": [
        "for key in train_data:\n",
        "    train_image_ids.append(train_data[key]['image_id'])\n",
        "    train_questions.append(train_data[key]['question'])\n",
        "    train_answers.append(train_data[key]['answer'])\n",
        "\n",
        "for key in test_data:\n",
        "    test_image_ids.append(test_data[key]['image_id'])\n",
        "    test_questions.append(test_data[key]['question'])\n",
        "    test_answers.append(test_data[key]['answer'])"
      ]
    },
    {
      "cell_type": "code",
      "execution_count": null,
      "metadata": {
        "id": "llQelq4gsiXc"
      },
      "outputs": [],
      "source": [
        "# Load and preprocess images\n",
        "image_dir = '/content/drive/MyDrive/cap/bangla dataset/Images/'"
      ]
    },
    {
      "cell_type": "code",
      "execution_count": null,
      "metadata": {
        "id": "CtIbeuf-skau"
      },
      "outputs": [],
      "source": [
        "from PIL import Image\n",
        "\n",
        "def preprocess_image(image_path):\n",
        "    img = Image.open(image_path)\n",
        "    img = img.convert('RGB')\n",
        "    img = img.resize((224, 224))\n",
        "    img = img_to_array(img)\n",
        "    img = img / 255.0\n",
        "    return img"
      ]
    },
    {
      "cell_type": "code",
      "execution_count": null,
      "metadata": {
        "id": "0wZQt6IHsmDT"
      },
      "outputs": [],
      "source": [
        "train_images = [preprocess_image(image_dir + image_id + '.png') for image_id in train_image_ids]\n",
        "train_images = np.array(train_images)\n",
        "\n",
        "test_images = [preprocess_image(image_dir + image_id + '.png') for image_id in test_image_ids]\n",
        "test_images = np.array(test_images)"
      ]
    },
    {
      "cell_type": "code",
      "execution_count": null,
      "metadata": {
        "id": "vIObbIn8sonz"
      },
      "outputs": [],
      "source": [
        "# Process questions\n",
        "tokenizer = Tokenizer()\n",
        "tokenizer.fit_on_texts(train_questions)\n",
        "vocab_size = len(tokenizer.word_index) + 1"
      ]
    },
    {
      "cell_type": "code",
      "execution_count": null,
      "metadata": {
        "id": "6KdpYE1assN-"
      },
      "outputs": [],
      "source": [
        "train_question_sequences = tokenizer.texts_to_sequences(train_questions)\n",
        "train_question_sequences = pad_sequences(train_question_sequences, padding='post')"
      ]
    },
    {
      "cell_type": "code",
      "execution_count": null,
      "metadata": {
        "id": "uwNaOy4UstYx"
      },
      "outputs": [],
      "source": [
        "test_question_sequences = tokenizer.texts_to_sequences(test_questions)\n",
        "test_question_sequences = pad_sequences(test_question_sequences, padding='post')"
      ]
    },
    {
      "cell_type": "code",
      "execution_count": null,
      "metadata": {
        "colab": {
          "base_uri": "https://localhost:8080/"
        },
        "id": "x0U5JZhHswJW",
        "outputId": "2cc801bc-fd68-454e-e87b-c3bec4d337de"
      },
      "outputs": [
        {
          "name": "stdout",
          "output_type": "stream",
          "text": [
            "Downloading data from https://storage.googleapis.com/tensorflow/keras-applications/inception_v3/inception_v3_weights_tf_dim_ordering_tf_kernels_notop.h5\n",
            "87910968/87910968 [==============================] - 0s 0us/step\n"
          ]
        }
      ],
      "source": [
        "image_input = Input(shape=(224, 224, 3))\n",
        "cnn_model = InceptionV3(weights='imagenet', include_top=False, input_tensor=image_input)"
      ]
    },
    {
      "cell_type": "code",
      "execution_count": null,
      "metadata": {
        "id": "pBUsdVKps0iZ"
      },
      "outputs": [],
      "source": [
        "# Add a Global Average Pooling layer after the InceptionV3 model\n",
        "image_features = cnn_model.output\n",
        "image_features = GlobalAveragePooling2D()(image_features)\n"
      ]
    },
    {
      "cell_type": "code",
      "execution_count": null,
      "metadata": {
        "id": "iOqDrx9RtGrl"
      },
      "outputs": [],
      "source": [
        "# Freeze the layers of the CNN model\n",
        "for layer in cnn_model.layers:\n",
        "    layer.trainable = False"
      ]
    },
    {
      "cell_type": "code",
      "execution_count": null,
      "metadata": {
        "colab": {
          "base_uri": "https://localhost:8080/"
        },
        "id": "2SlATRPgtKQp",
        "outputId": "df9d66da-d1fd-4fe1-eee3-0c2623c6c3ad"
      },
      "outputs": [
        {
          "name": "stdout",
          "output_type": "stream",
          "text": [
            "31/31 [==============================] - 122s 4s/step\n",
            "31/31 [==============================] - 120s 4s/step\n"
          ]
        }
      ],
      "source": [
        "# Extract image features\n",
        "train_image_features = cnn_model.predict(train_images)\n",
        "test_image_features = cnn_model.predict(test_images)"
      ]
    },
    {
      "cell_type": "code",
      "execution_count": null,
      "metadata": {
        "id": "nGomX6AZtMmE"
      },
      "outputs": [],
      "source": [
        "# Define the LSTM model for processing questions\n",
        "question_input = Input(shape=(None,))\n",
        "embedding_layer = Embedding(vocab_size, 300, mask_zero=True)(question_input)\n",
        "lstm_layer = LSTM(256)(embedding_layer)\n",
        "\n",
        "# Combine image and question features\n",
        "combined_features = Concatenate()([image_features, lstm_layer])\n",
        "output = Dense(512, activation='relu')(combined_features)\n",
        "output = Dense(vocab_size, activation='softmax')(output)"
      ]
    },
    {
      "cell_type": "code",
      "execution_count": null,
      "metadata": {
        "id": "Hyk_Mhq_tm91"
      },
      "outputs": [],
      "source": [
        "# Create the final model\n",
        "model = Model(inputs=[cnn_model.input, question_input], outputs=output)"
      ]
    },
    {
      "cell_type": "code",
      "execution_count": null,
      "metadata": {
        "id": "0GRbBu5Atu1_"
      },
      "outputs": [],
      "source": [
        "label_mapping = {'বানর বার': 0, 'বসা': 1, 'না': 2, 'মল': 3, 'ঠিক': 4, 'সাদা': 4, 'হ্যাঁ': 6, 'কুকুর': 7, 'বাদামী': 8, 'দুই': 9, 'চার': 10, 'পাঁচ': 11, 'সবুজ': 12, 'বাজানো': 13, 'বিড়াল': 14, 'নীল': 15, 'টেবিল': 16, 'ছেলে': 17, 'রৌদ্রোজ্জ্বল': 18, 'তিন': 19, 'কালো': 20, 'গাছ': 21, 'এক': 22, 'বেঞ্চ': 23, 'ধূসর': 24, 'হলুদ': 25, 'পাখি': 26, 'মেয়ে': 27, 'মদ': 28, 'মানুষ': 29, 'লাল': 30, 'বই': 31, 'হাড়': 32, 'সকার': 33, 'পাই': 34, 'লগ': 35, 'বেসবল': 36, 'ফুটবল': 37, 'কমলা': 38, 'পালঙ্ক': 39, 'দাঁড়িয়ে': 40, '0': 41, 'মহিলা': 42, 'খাবার': 43, 'মেঝে': 44, 'কাঠবিড়াল': 45, 'পাটি': 46, 'ঘুমাচ্ছেন': 47, 'আপেল': 48, 'বাইক': 49, 'উদ্ভিদ': 50, 'কম্বল': 51, 'ঘাস': 52, 'চেয়ার': 53, 'বাম': 54, 'কিছুই না': 55}"
      ]
    },
    {
      "cell_type": "code",
      "execution_count": null,
      "metadata": {
        "id": "B9h4A-kNtv9j"
      },
      "outputs": [],
      "source": [
        "train_label_encoded = [label_mapping[label] for label in train_answers]\n",
        "train_label_encoded = np.array(train_label_encoded, dtype=np.int32)"
      ]
    },
    {
      "cell_type": "code",
      "execution_count": null,
      "metadata": {
        "id": "Zbv1RrsXtz2v"
      },
      "outputs": [],
      "source": [
        "model.compile(loss='sparse_categorical_crossentropy', optimizer='adam', metrics=['accuracy'])\n"
      ]
    },
    {
      "cell_type": "code",
      "execution_count": null,
      "metadata": {
        "colab": {
          "base_uri": "https://localhost:8080/"
        },
        "id": "oQHo7NekmWvM",
        "outputId": "e682d311-ba21-4f98-dca9-55a5bb606940"
      },
      "outputs": [
        {
          "name": "stdout",
          "output_type": "stream",
          "text": [
            "Epoch 1/15\n",
            "61/61 [==============================] - 136s 2s/step - loss: 2.9937 - accuracy: 0.3248\n",
            "Epoch 2/15\n",
            "61/61 [==============================] - 124s 2s/step - loss: 1.9854 - accuracy: 0.4109\n",
            "Epoch 3/15\n",
            "61/61 [==============================] - 126s 2s/step - loss: 1.6489 - accuracy: 0.4436\n",
            "Epoch 4/15\n",
            "61/61 [==============================] - 125s 2s/step - loss: 1.3214 - accuracy: 0.5205\n",
            "Epoch 5/15\n",
            "61/61 [==============================] - 125s 2s/step - loss: 1.1328 - accuracy: 0.5625\n",
            "Epoch 6/15\n",
            "61/61 [==============================] - 126s 2s/step - loss: 0.8206 - accuracy: 0.7203\n",
            "Epoch 7/15\n",
            "61/61 [==============================] - 124s 2s/step - loss: 0.6244 - accuracy: 0.7961\n",
            "Epoch 8/15\n",
            "61/61 [==============================] - 124s 2s/step - loss: 0.4930 - accuracy: 0.8412\n",
            "Epoch 9/15\n",
            "61/61 [==============================] - 125s 2s/step - loss: 0.3642 - accuracy: 0.8955\n",
            "Epoch 10/15\n",
            "61/61 [==============================] - 125s 2s/step - loss: 0.2551 - accuracy: 0.9314\n",
            "Epoch 11/15\n",
            "61/61 [==============================] - 124s 2s/step - loss: 0.2049 - accuracy: 0.9406\n",
            "Epoch 12/15\n",
            "61/61 [==============================] - 124s 2s/step - loss: 0.1741 - accuracy: 0.9467\n",
            "Epoch 13/15\n",
            "61/61 [==============================] - 126s 2s/step - loss: 0.1158 - accuracy: 0.9713\n",
            "Epoch 14/15\n",
            "61/61 [==============================] - 124s 2s/step - loss: 0.0976 - accuracy: 0.9734\n",
            "Epoch 15/15\n",
            "61/61 [==============================] - 124s 2s/step - loss: 0.0748 - accuracy: 0.9867\n"
          ]
        }
      ],
      "source": [
        "history = model.fit([train_images, train_question_sequences], np.array(train_label_encoded), epochs=15, batch_size=16)"
      ]
    },
    {
      "cell_type": "code",
      "execution_count": null,
      "metadata": {
        "id": "aOB2zGLZk1A8"
      },
      "outputs": [],
      "source": [
        "import matplotlib.pyplot as plt"
      ]
    },
    {
      "cell_type": "code",
      "execution_count": null,
      "metadata": {
        "colab": {
          "base_uri": "https://localhost:8080/",
          "height": 54
        },
        "id": "H3C4RNV4meM9",
        "outputId": "fa50a026-3b19-44c7-e821-777fb9c51421"
      },
      "outputs": [
        {
          "data": {
            "image/png": "[encoded data removed]",
            "text/plain": [
              "<Figure size 640x480 with 1 Axes>"
            ]
          },
          "metadata": {},
          "output_type": "display_data"
        }
      ],
      "source": [
        "# Plotting the loss and accuracy on the same graph\n",
        "epochs = range(1, len(history.history['loss']) + 1)\n",
        "\n",
        "plt.plot(epochs, history.history['loss'], label='Training Loss')\n",
        "plt.plot(epochs, history.history['accuracy'], label='Training Accuracy')\n",
        "plt.xlabel('Epoch')\n",
        "plt.ylabel('Value')\n",
        "plt.title('Training Loss and Accuracy over Epochs')\n",
        "plt.legend()\n",
        "plt.show()"
      ]
    },
    {
      "cell_type": "code",
      "execution_count": null,
      "metadata": {
        "id": "W6NpOAl7t5Kr"
      },
      "outputs": [],
      "source": [
        "test_answers = [item['answer'] for _, item in test_data.items()]\n",
        "\n",
        "test_label_encoded = [label_mapping[label] for label in test_answers]\n",
        "test_label_encoded = np.array(test_label_encoded, dtype=np.int32)"
      ]
    },
    {
      "cell_type": "code",
      "execution_count": null,
      "metadata": {
        "colab": {
          "background_save": true,
          "base_uri": "https://localhost:8080/"
        },
        "id": "bT-j8RyBt8O_",
        "outputId": "7f4cc16a-495b-4017-d801-79451f0ffa99"
      },
      "outputs": [
        {
          "name": "stdout",
          "output_type": "stream",
          "text": [
            "31/31 [==============================] - 124s 4s/step - loss: 0.0515 - accuracy: 0.9939\n",
            "Test Accuracy: 0.993852436542511\n"
          ]
        }
      ],
      "source": [
        "# Evaluate the model on the test dataset\n",
        "test_loss, test_accuracy = model.evaluate([test_images, test_question_sequences], test_label_encoded)\n",
        "\n",
        "# Print the test accuracy\n",
        "print(\"Test Accuracy:\", test_accuracy)"
      ]
    },
    {
      "cell_type": "code",
      "execution_count": null,
      "metadata": {
        "colab": {
          "background_save": true
        },
        "id": "AHMdT8zzt-lr",
        "outputId": "ce19b9c0-08f4-442d-d8b1-1b617c005ea5"
      },
      "outputs": [
        {
          "ename": "FileNotFoundError",
          "evalue": "ignored",
          "output_type": "error",
          "traceback": [
            "\u001b[0;31m---------------------------------------------------------------------------\u001b[0m",
            "\u001b[0;31mFileNotFoundError\u001b[0m                         Traceback (most recent call last)",
            "\u001b[0;32m<ipython-input-27-83885a9a0cc7>\u001b[0m in \u001b[0;36m<cell line: 9>\u001b[0;34m()\u001b[0m\n\u001b[1;32m      7\u001b[0m \u001b[0;34m\u001b[0m\u001b[0m\n\u001b[1;32m      8\u001b[0m \u001b[0;31m# Preprocess the input image\u001b[0m\u001b[0;34m\u001b[0m\u001b[0;34m\u001b[0m\u001b[0m\n\u001b[0;32m----> 9\u001b[0;31m \u001b[0minput_image\u001b[0m \u001b[0;34m=\u001b[0m \u001b[0mpreprocess_image\u001b[0m\u001b[0;34m(\u001b[0m\u001b[0minput_image_path\u001b[0m\u001b[0;34m)\u001b[0m\u001b[0;34m\u001b[0m\u001b[0;34m\u001b[0m\u001b[0m\n\u001b[0m\u001b[1;32m     10\u001b[0m \u001b[0minput_image\u001b[0m \u001b[0;34m=\u001b[0m \u001b[0mnp\u001b[0m\u001b[0;34m.\u001b[0m\u001b[0mexpand_dims\u001b[0m\u001b[0;34m(\u001b[0m\u001b[0minput_image\u001b[0m\u001b[0;34m,\u001b[0m \u001b[0maxis\u001b[0m\u001b[0;34m=\u001b[0m\u001b[0;36m0\u001b[0m\u001b[0;34m)\u001b[0m  \u001b[0;31m# Add batch dimension\u001b[0m\u001b[0;34m\u001b[0m\u001b[0;34m\u001b[0m\u001b[0m\n\u001b[1;32m     11\u001b[0m \u001b[0;34m\u001b[0m\u001b[0m\n",
            "\u001b[0;32m<ipython-input-8-c51d6bd595db>\u001b[0m in \u001b[0;36mpreprocess_image\u001b[0;34m(image_path)\u001b[0m\n\u001b[1;32m      2\u001b[0m \u001b[0;34m\u001b[0m\u001b[0m\n\u001b[1;32m      3\u001b[0m \u001b[0;32mdef\u001b[0m \u001b[0mpreprocess_image\u001b[0m\u001b[0;34m(\u001b[0m\u001b[0mimage_path\u001b[0m\u001b[0;34m)\u001b[0m\u001b[0;34m:\u001b[0m\u001b[0;34m\u001b[0m\u001b[0;34m\u001b[0m\u001b[0m\n\u001b[0;32m----> 4\u001b[0;31m     \u001b[0mimg\u001b[0m \u001b[0;34m=\u001b[0m \u001b[0mImage\u001b[0m\u001b[0;34m.\u001b[0m\u001b[0mopen\u001b[0m\u001b[0;34m(\u001b[0m\u001b[0mimage_path\u001b[0m\u001b[0;34m)\u001b[0m\u001b[0;34m\u001b[0m\u001b[0;34m\u001b[0m\u001b[0m\n\u001b[0m\u001b[1;32m      5\u001b[0m     \u001b[0mimg\u001b[0m \u001b[0;34m=\u001b[0m \u001b[0mimg\u001b[0m\u001b[0;34m.\u001b[0m\u001b[0mconvert\u001b[0m\u001b[0;34m(\u001b[0m\u001b[0;34m'RGB'\u001b[0m\u001b[0;34m)\u001b[0m\u001b[0;34m\u001b[0m\u001b[0;34m\u001b[0m\u001b[0m\n\u001b[1;32m      6\u001b[0m     \u001b[0mimg\u001b[0m \u001b[0;34m=\u001b[0m \u001b[0mimg\u001b[0m\u001b[0;34m.\u001b[0m\u001b[0mresize\u001b[0m\u001b[0;34m(\u001b[0m\u001b[0;34m(\u001b[0m\u001b[0;36m224\u001b[0m\u001b[0;34m,\u001b[0m \u001b[0;36m224\u001b[0m\u001b[0;34m)\u001b[0m\u001b[0;34m)\u001b[0m\u001b[0;34m\u001b[0m\u001b[0;34m\u001b[0m\u001b[0m\n",
            "\u001b[0;32m/usr/local/lib/python3.10/dist-packages/PIL/Image.py\u001b[0m in \u001b[0;36mopen\u001b[0;34m(fp, mode, formats)\u001b[0m\n\u001b[1;32m   3225\u001b[0m \u001b[0;34m\u001b[0m\u001b[0m\n\u001b[1;32m   3226\u001b[0m     \u001b[0;32mif\u001b[0m \u001b[0mfilename\u001b[0m\u001b[0;34m:\u001b[0m\u001b[0;34m\u001b[0m\u001b[0;34m\u001b[0m\u001b[0m\n\u001b[0;32m-> 3227\u001b[0;31m         \u001b[0mfp\u001b[0m \u001b[0;34m=\u001b[0m \u001b[0mbuiltins\u001b[0m\u001b[0;34m.\u001b[0m\u001b[0mopen\u001b[0m\u001b[0;34m(\u001b[0m\u001b[0mfilename\u001b[0m\u001b[0;34m,\u001b[0m \u001b[0;34m\"rb\"\u001b[0m\u001b[0;34m)\u001b[0m\u001b[0;34m\u001b[0m\u001b[0;34m\u001b[0m\u001b[0m\n\u001b[0m\u001b[1;32m   3228\u001b[0m         \u001b[0mexclusive_fp\u001b[0m \u001b[0;34m=\u001b[0m \u001b[0;32mTrue\u001b[0m\u001b[0;34m\u001b[0m\u001b[0;34m\u001b[0m\u001b[0m\n\u001b[1;32m   3229\u001b[0m \u001b[0;34m\u001b[0m\u001b[0m\n",
            "\u001b[0;31mFileNotFoundError\u001b[0m: [Errno 2] No such file or directory: '/content/drive/MyDrive/bangla dataset/Images/2.png'"
          ]
        }
      ],
      "source": [
        "# Provide an image and question\n",
        "input_image_path = '/content/drive/MyDrive/bangla dataset/Images/2.png'\n",
        "input_question = 'কেউ কি সোফায় বসে আছে?'\n",
        "\n",
        "# Set the maximum sequence length\n",
        "max_question_length = 100\n",
        "\n",
        "# Preprocess the input image\n",
        "input_image = preprocess_image(input_image_path)\n",
        "input_image = np.expand_dims(input_image, axis=0)  # Add batch dimension\n",
        "\n",
        "# Tokenize and preprocess the input question\n",
        "input_question_sequence = tokenizer.texts_to_sequences([input_question])\n",
        "input_question_sequence = pad_sequences(input_question_sequence, maxlen=max_question_length)\n",
        "\n",
        "# Make prediction on the input\n",
        "prediction = model.predict([input_image, input_question_sequence])\n",
        "predicted_label = np.argmax(prediction)\n",
        "\n",
        "# Decode the predicted label\n",
        "label_mapping_reverse = {v: k for k, v in label_mapping.items()}\n",
        "predicted_answer = label_mapping_reverse[predicted_label]\n",
        "\n",
        "# Print the predicted answer\n",
        "print(\"Predicted Answer:\", predicted_answer)\n"
      ]
    },
    {
      "cell_type": "code",
      "execution_count": null,
      "metadata": {
        "colab": {
          "background_save": true
        },
        "id": "BCxMG2ebxbY2"
      },
      "outputs": [],
      "source": [
        "model.summary()"
      ]
    },
    {
      "cell_type": "code",
      "execution_count": null,
      "metadata": {
        "colab": {
          "background_save": true
        },
        "id": "6psi7NMm4bdl"
      },
      "outputs": [],
      "source": [
        "model.save('/content/drive/MyDrive/incep_model.h5')"
      ]
    },
    {
      "cell_type": "code",
      "execution_count": null,
      "metadata": {
        "colab": {
          "background_save": true
        },
        "id": "jAtpXvz5mi9L"
      },
      "outputs": [],
      "source": [
        "import numpy as np\n",
        "from tensorflow.keras.preprocessing.sequence import pad_sequences\n",
        "\n",
        "# Assuming you have a function preprocess_image() and a tokenizer\n",
        "# Also, you need to define the label_mapping dictionary and the model\n",
        "\n",
        "# Function to check if a string is empty or consists of only spaces\n",
        "def is_empty_or_spaces(s):\n",
        "    return s.strip() == \"\"\n",
        "\n",
        "input_image_path = input(\"Enter image path: \").strip()\n",
        "# ... (your previous code)\n",
        "\n",
        "input_question = input(\"Enter question: \").strip()\n",
        "\n",
        "# Check if either image path or question is empty\n",
        "if is_empty_or_spaces(input_image_path) or is_empty_or_spaces(input_question):\n",
        "    print(\"Please enter both an image path and a question.\")\n",
        "else:\n",
        "    # Extract image id from the input_image_path\n",
        "    image_id = input_image_path.split('/')[-1].split('.')[0]\n",
        "\n",
        "    # Tokenize and preprocess the input question if not empty\n",
        "    input_question_sequence = None\n",
        "    if not is_empty_or_spaces(input_question):\n",
        "        input_question_sequence = tokenizer.texts_to_sequences([input_question])\n",
        "        input_question_sequence = pad_sequences(input_question_sequence, maxlen=max_question_length)\n",
        "\n",
        "    if input_question_sequence is not None:\n",
        "        # Find the index of the image id in the test_image_ids\n",
        "        corresponding_index = test_image_ids.index(image_id)\n",
        "        input_image_features = test_image_features[corresponding_index]\n",
        "\n",
        "        # Make prediction on the input\n",
        "        prediction = model.predict([np.array([input_image_features]), input_question_sequence])\n",
        "        predicted_label = np.argmax(prediction)\n",
        "\n",
        "        # Decode the predicted label\n",
        "        predicted_answer = label_mapping_reverse.get(predicted_label, \"Unknown\")\n",
        "\n",
        "        # Check if the predicted answer matches any of the actual answers\n",
        "        if predicted_answer in test_answers:\n",
        "            # Get the index of the predicted answer in the list of test answers\n",
        "            predicted_answer_index = test_answers.index(predicted_answer)\n",
        "            actual_answer = test_answers[predicted_answer_index]\n",
        "\n",
        "            if actual_answer == predicted_answer:\n",
        "                print(\"Predicted Answer:\", predicted_answer)\n",
        "            else:\n",
        "                print(\"Wrong question input.\")\n",
        "        else:\n",
        "            print(\"Question is unrelated to the image. Please enter a valid question.\")\n",
        "    else:\n",
        "        print(\"Please provide a valid question.\")\n"
      ]
    }
  ],
  "metadata": {
    "colab": {
      "provenance": []
    },
    "kernelspec": {
      "display_name": "Python 3",
      "name": "python3"
    },
    "language_info": {
      "name": "python"
    }
  },
  "nbformat": 4,
  "nbformat_minor": 0
}